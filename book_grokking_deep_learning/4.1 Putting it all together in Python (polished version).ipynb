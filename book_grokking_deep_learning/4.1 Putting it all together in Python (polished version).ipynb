{
 "cells": [
  {
   "cell_type": "code",
   "execution_count": 1,
   "metadata": {
    "collapsed": true
   },
   "outputs": [],
   "source": [
    "import numpy as np"
   ]
  },
  {
   "cell_type": "code",
   "execution_count": 2,
   "metadata": {
    "collapsed": true
   },
   "outputs": [],
   "source": [
    "weights = np.array([0.5,0.48,-0.7])\n",
    "alpha = 0.1\n",
    "streetlights = np.array( [ [ 1, 0, 1 ],\n",
    "                          [ 0, 1, 1 ],\n",
    "                          [ 0, 0, 1 ],\n",
    "                          [ 1, 1, 1 ],\n",
    "                          [ 0, 1, 1 ],\n",
    "                          [ 1, 0, 1 ] ] )\n",
    "walk_vs_stop = np.array( [ 0, 1, 0, 1, 1, 0 ] )"
   ]
  },
  {
   "cell_type": "code",
   "execution_count": 3,
   "metadata": {
    "collapsed": true
   },
   "outputs": [],
   "source": [
    "input = streetlights[0] #  first streetlight [1,0,1]\n",
    "goal_prediction = walk_vs_stop[0] # equals 0... i.e. \"stop\""
   ]
  },
  {
   "cell_type": "code",
   "execution_count": 4,
   "metadata": {
    "collapsed": false
   },
   "outputs": [
    {
     "name": "stdout",
     "output_type": "stream",
     "text": [
      "Error:0.04 Prediction:-0.2\n",
      "Error:0.0256 Prediction:-0.16\n",
      "Error:0.016384 Prediction:-0.128\n",
      "Error:0.01048576 Prediction:-0.1024\n",
      "Error:0.0067108864 Prediction:-0.08192\n",
      "Error:0.004294967296 Prediction:-0.065536\n",
      "Error:0.00274877906944 Prediction:-0.0524288\n",
      "Error:0.00175921860444 Prediction:-0.04194304\n",
      "Error:0.00112589990684 Prediction:-0.033554432\n",
      "Error:0.000720575940379 Prediction:-0.0268435456\n",
      "Error:0.000461168601843 Prediction:-0.02147483648\n",
      "Error:0.000295147905179 Prediction:-0.017179869184\n",
      "Error:0.000188894659315 Prediction:-0.0137438953472\n",
      "Error:0.000120892581961 Prediction:-0.0109951162778\n",
      "Error:7.73712524553e-05 Prediction:-0.00879609302221\n",
      "Error:4.95176015714e-05 Prediction:-0.00703687441777\n",
      "Error:3.16912650057e-05 Prediction:-0.00562949953421\n",
      "Error:2.02824096037e-05 Prediction:-0.00450359962737\n",
      "Error:1.29807421463e-05 Prediction:-0.0036028797019\n",
      "Error:8.30767497366e-06 Prediction:-0.00288230376152\n"
     ]
    }
   ],
   "source": [
    "for iteration in range(20):\n",
    "    prediction = input.dot(weights)\n",
    "    error = (prediction - goal_prediction) ** 2\n",
    "    delta = prediction - goal_prediction\n",
    "    weights = weights - (alpha * (input * delta))\n",
    "    \n",
    "    print(\"Error:\" + str(error) + \" Prediction:\" + str(prediction))"
   ]
  },
  {
   "cell_type": "code",
   "execution_count": null,
   "metadata": {
    "collapsed": true
   },
   "outputs": [],
   "source": []
  }
 ],
 "metadata": {
  "kernelspec": {
   "display_name": "Python 3",
   "language": "python",
   "name": "python3"
  },
  "language_info": {
   "codemirror_mode": {
    "name": "ipython",
    "version": 3
   },
   "file_extension": ".py",
   "mimetype": "text/x-python",
   "name": "python",
   "nbconvert_exporter": "python",
   "pygments_lexer": "ipython3",
   "version": "3.5.2"
  }
 },
 "nbformat": 4,
 "nbformat_minor": 1
}
