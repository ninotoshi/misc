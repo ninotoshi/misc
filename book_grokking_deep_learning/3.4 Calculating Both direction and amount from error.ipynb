{
 "cells": [
  {
   "cell_type": "code",
   "execution_count": 11,
   "metadata": {
    "collapsed": true
   },
   "outputs": [],
   "source": [
    "knob_weight = 0.5\n",
    "goal_prediction = 0.8\n",
    "input = 2"
   ]
  },
  {
   "cell_type": "code",
   "execution_count": 12,
   "metadata": {
    "collapsed": false
   },
   "outputs": [
    {
     "name": "stdout",
     "output_type": "stream",
     "text": [
      "Error:0.03999999999999998 Prediction:1.0 Weight: 0.10000000000000009\n",
      "Error:0.3599999999999998 Prediction:0.20000000000000018 Weight: 1.2999999999999998\n",
      "Error:3.2399999999999984 Prediction:2.5999999999999996 Weight: -2.2999999999999994\n",
      "Error:29.159999999999986 Prediction:-4.599999999999999 Weight: 8.499999999999998\n",
      "Error:262.4399999999999 Prediction:16.999999999999996 Weight: -23.89999999999999\n",
      "Error:2361.959999999998 Prediction:-47.79999999999998 Weight: 73.29999999999997\n",
      "Error:21257.639999999978 Prediction:146.59999999999994 Weight: -218.2999999999999\n",
      "Error:191318.75999999983 Prediction:-436.5999999999998 Weight: 656.4999999999998\n",
      "Error:1721868.839999999 Prediction:1312.9999999999995 Weight: -1967.8999999999994\n",
      "Error:15496819.559999991 Prediction:-3935.799999999999 Weight: 5905.299999999998\n",
      "Error:139471376.03999993 Prediction:11810.599999999997 Weight: -17714.299999999996\n",
      "Error:1255242384.3599997 Prediction:-35428.59999999999 Weight: 53144.49999999999\n",
      "Error:11297181459.239996 Prediction:106288.99999999999 Weight: -159431.89999999997\n",
      "Error:101674633133.15994 Prediction:-318863.79999999993 Weight: 478297.2999999999\n",
      "Error:915071698198.4395 Prediction:956594.5999999997 Weight: -1434890.2999999996\n",
      "Error:8235645283785.954 Prediction:-2869780.599999999 Weight: 4304672.499999998\n",
      "Error:74120807554073.56 Prediction:8609344.999999996 Weight: -12914015.899999993\n",
      "Error:667087267986662.1 Prediction:-25828031.799999986 Weight: 38742049.29999998\n",
      "Error:6003785411879960.0 Prediction:77484098.59999996 Weight: -116226146.29999995\n",
      "Error:5.403406870691965e+16 Prediction:-232452292.5999999 Weight: 348678440.4999999\n"
     ]
    }
   ],
   "source": [
    "for iteration in range(20):\n",
    "    prediction = input * knob_weight\n",
    "    error = (prediction - goal_prediction) ** 2\n",
    "    direction_and_amount = (goal_prediction - prediction) * input\n",
    "    knob_weight = knob_weight + direction_and_amount\n",
    "    print(\"Error:\" + str(error) + \" Prediction:\" + str(prediction) + \" Weight: \" + str(knob_weight))"
   ]
  },
  {
   "cell_type": "code",
   "execution_count": 3,
   "metadata": {
    "collapsed": true
   },
   "outputs": [],
   "source": []
  },
  {
   "cell_type": "code",
   "execution_count": null,
   "metadata": {
    "collapsed": true
   },
   "outputs": [],
   "source": []
  }
 ],
 "metadata": {
  "kernelspec": {
   "display_name": "Python 3",
   "language": "python",
   "name": "python3"
  },
  "language_info": {
   "codemirror_mode": {
    "name": "ipython",
    "version": 3
   },
   "file_extension": ".py",
   "mimetype": "text/x-python",
   "name": "python",
   "nbconvert_exporter": "python",
   "pygments_lexer": "ipython3",
   "version": "3.5.2"
  }
 },
 "nbformat": 4,
 "nbformat_minor": 1
}
