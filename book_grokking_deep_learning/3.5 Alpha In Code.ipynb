{
 "cells": [
  {
   "cell_type": "code",
   "execution_count": 1,
   "metadata": {
    "collapsed": true
   },
   "outputs": [],
   "source": [
    "knob_weight = 0.5\n",
    "goal_prediction = 0.8\n",
    "input = 0.5\n",
    "alpha = 0.1"
   ]
  },
  {
   "cell_type": "code",
   "execution_count": 2,
   "metadata": {
    "collapsed": false
   },
   "outputs": [
    {
     "name": "stdout",
     "output_type": "stream",
     "text": [
      "Error:0.30250000000000005 Prediction:0.25\n",
      "Error:0.2875640625000001 Prediction:0.26375\n",
      "Error:0.27336558691406254 Prediction:0.27715625\n",
      "Error:0.2598681610601807 Prediction:0.29022734375\n",
      "Error:0.2470371706078343 Prediction:0.30297166015625\n",
      "Error:0.23483971030907247 Prediction:0.31539736865234375\n",
      "Error:0.22324449961256201 Prediction:0.32751243443603517\n",
      "Error:0.21222180244419178 Prediction:0.33932462357513427\n",
      "Error:0.20174335094850981 Prediction:0.3508415079857559\n",
      "Error:0.19178227299542716 Prediction:0.362070470286112\n",
      "Error:0.18231302326627793 Prediction:0.3730187085289592\n",
      "Error:0.1733113177425055 Prediction:0.3836932408157352\n",
      "Error:0.1647540714289693 Prediction:0.3941009097953418\n",
      "Error:0.15661933915216394 Prediction:0.40424838705045824\n",
      "Error:0.14888625928152585 Prediction:0.4141421773741968\n",
      "Error:0.1415350002295005 Prediction:0.4237886229398419\n",
      "Error:0.13454670959316892 Prediction:0.43319390736634583\n",
      "Error:0.1279034658070062 Prediction:0.44236405968218717\n",
      "Error:0.12158823218278528 Prediction:0.4513049581901325\n",
      "Error:0.11558481321876025 Prediction:0.4600223342353792\n",
      "Error:0.10987781306608395 Prediction:0.46852177587949473\n",
      "Error:0.10445259604594606 Prediction:0.47680873148250735\n",
      "Error:0.09929524911617747 Prediction:0.4848885131954447\n",
      "Error:0.0943925461910662 Prediction:0.4927663003655586\n",
      "Error:0.08973191422288233 Prediction:0.5004471428564196\n",
      "Error:0.08530140095812751 Prediction:0.5079359642850091\n",
      "Error:0.08108964428581995 Prediction:0.5152375651778839\n",
      "Error:0.07708584309920759 Prediction:0.5223566260484368\n",
      "Error:0.07327972959618423 Prediction:0.5292977103972258\n",
      "Error:0.06966154294737262 Prediction:0.5360652676372952\n",
      "Error:0.06622200426434613 Prediction:0.5426636359463628\n",
      "Error:0.06295229280379402 Prediction:0.5490970450477037\n",
      "Error:0.0598440233466067 Prediction:0.5553696189215112\n",
      "Error:0.056889224693868 Prediction:0.5614853784484733\n",
      "Error:0.05408031922460824 Prediction:0.5674482439872616\n",
      "Error:0.05141010346289322 Prediction:0.57326203788758\n",
      "Error:0.04887172960441287 Prediction:0.5789304869403905\n",
      "Error:0.04645868795519497 Prediction:0.5844572247668808\n",
      "Error:0.044164790237407214 Prediction:0.5898457941477088\n",
      "Error:0.04198415371943524 Prediction:0.595099649294016\n",
      "Error:0.03991118612953811 Prediction:0.6002221580616657\n",
      "Error:0.03794057131439218 Prediction:0.605216604110124\n",
      "Error:0.03606725560574407 Prediction:0.6100861890073709\n",
      "Error:0.03428643486021045 Prediction:0.6148340342821866\n",
      "Error:0.03259354213898757 Prediction:0.619463183425132\n",
      "Error:0.030984235995875038 Prediction:0.6239766038395037\n",
      "Error:0.029454389343578708 Prediction:0.6283771887435161\n",
      "Error:0.028000078869739504 Prediction:0.6326677590249282\n",
      "Error:0.026617574975546125 Prediction:0.636851065049305\n",
      "Error:0.02530333221112854 Prediction:0.6409297884230724\n",
      "Error:0.024053980183204066 Prediction:0.6449065437124956\n",
      "Error:0.022866314911658376 Prediction:0.6487838801196831\n",
      "Error:0.021737290612895255 Prediction:0.652564283116691\n",
      "Error:0.02066401188888354 Prediction:0.6562501760387738\n",
      "Error:0.019643726301869904 Prediction:0.6598439216378045\n",
      "Error:0.018673817315715067 Prediction:0.6633478235968594\n",
      "Error:0.017751797585751624 Prediction:0.666764128006938\n",
      "Error:0.016875302579955134 Prediction:0.6700950248067645\n",
      "Error:0.016042084515069863 Prediction:0.6733426491865954\n",
      "Error:0.015250006592138293 Prediction:0.6765090829569305\n",
      "Error:0.014497037516651478 Prediction:0.6795963558830072\n",
      "Error:0.013781246289266809 Prediction:0.682606446985932\n",
      "Error:0.013100797253734255 Prediction:0.6855412858112837\n",
      "Error:0.012453945389331138 Prediction:0.6884027536660016\n",
      "Error:0.011839031835732924 Prediction:0.6911926848243515\n",
      "Error:0.011254479638843604 Prediction:0.6939128677037427\n",
      "Error:0.010698789706675711 Prediction:0.6965650460111491\n",
      "Error:0.010170536964908591 Prediction:0.6991509198608704\n",
      "Error:0.00966836670226623 Prediction:0.7016721468643486\n",
      "Error:0.009190991096341836 Prediction:0.7041303431927399\n",
      "Error:0.008737185910959951 Prediction:0.7065270846129215\n",
      "Error:0.008305787356606305 Prediction:0.7088639074975984\n",
      "Error:0.007895689105873868 Prediction:0.7111423098101585\n",
      "Error:0.0075058394562713395 Prediction:0.7133637520649045\n",
      "Error:0.007135238633117936 Prediction:0.715529658263282\n",
      "Error:0.00678293622560774 Prediction:0.7176414168066999\n",
      "Error:0.006448028749468366 Prediction:0.7197003813865324\n",
      "Error:0.00612965732996337 Prediction:0.721707871851869\n",
      "Error:0.005827005499296434 Prediction:0.7236651750555723\n",
      "Error:0.00553929710276867 Prediction:0.725573545679183\n",
      "Error:0.005265794308319466 Prediction:0.7274342070372034\n",
      "Error:0.0050057957143461885 Prediction:0.7292483518612733\n",
      "Error:0.004758634550950345 Prediction:0.7310171430647415\n",
      "Error:0.004523676969997173 Prediction:0.732741714488123\n",
      "Error:0.004300320419603569 Prediction:0.7344231716259199\n",
      "Error:0.0040879920988856466 Prediction:0.7360625923352718\n",
      "Error:0.0038861474890031717 Prediction:0.73766102752689\n",
      "Error:0.0036942689567336386 Prediction:0.7392195018387178\n",
      "Error:0.003511864426994918 Prediction:0.7407390142927498\n",
      "Error:0.0033384661209120443 Prediction:0.742220538935431\n",
      "Error:0.003173629356192013 Prediction:0.7436650254620453\n",
      "Error:0.0030169314067300316 Prediction:0.7450733998254941\n",
      "Error:0.002867970418522732 Prediction:0.7464465648298568\n",
      "Error:0.0027263643791081765 Prediction:0.7477854007091104\n",
      "Error:0.0025917501378897047 Prediction:0.7490907656913827\n",
      "Error:0.002463782474831404 Prediction:0.7503634965490981\n",
      "Error:0.002342133215136602 Prediction:0.7516044091353706\n",
      "Error:0.002226490387639232 Prediction:0.7528142989069864\n",
      "Error:0.002116557424749541 Prediction:0.7539939414343118\n",
      "Error:0.002012052401902532 Prediction:0.755144092898454\n"
     ]
    }
   ],
   "source": [
    "for iteration in range(100):\n",
    "    prediction = input * knob_weight\n",
    "    error = (goal_prediction - prediction) ** 2\n",
    "    derivative = input * (prediction - goal_prediction)\n",
    "    knob_weight = knob_weight - (alpha * derivative)\n",
    "\n",
    "    print(\"Error:\" + str(error) + \" Prediction:\" + str(prediction))"
   ]
  },
  {
   "cell_type": "code",
   "execution_count": 3,
   "metadata": {
    "collapsed": true
   },
   "outputs": [],
   "source": []
  },
  {
   "cell_type": "code",
   "execution_count": null,
   "metadata": {
    "collapsed": true
   },
   "outputs": [],
   "source": []
  }
 ],
 "metadata": {
  "kernelspec": {
   "display_name": "Python 3",
   "language": "python",
   "name": "python3"
  },
  "language_info": {
   "codemirror_mode": {
    "name": "ipython",
    "version": 3
   },
   "file_extension": ".py",
   "mimetype": "text/x-python",
   "name": "python",
   "nbconvert_exporter": "python",
   "pygments_lexer": "ipython3",
   "version": "3.5.2"
  }
 },
 "nbformat": 4,
 "nbformat_minor": 1
}
